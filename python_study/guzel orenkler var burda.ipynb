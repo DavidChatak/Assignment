{
 "nbformat": 4,
 "nbformat_minor": 2,
 "metadata": {
  "language_info": {
   "name": "python",
   "codemirror_mode": {
    "name": "ipython",
    "version": 3
   },
   "version": "3.8.2-final"
  },
  "orig_nbformat": 2,
  "file_extension": ".py",
  "mimetype": "text/x-python",
  "name": "python",
  "npconvert_exporter": "python",
  "pygments_lexer": "ipython3",
  "version": 3,
  "kernelspec": {
   "name": "python38232bit4ee6b5045b2545d8a688e170679f4513",
   "display_name": "Python 3.8.2 32-bit"
  }
 },
 "cells": [
  {
   "cell_type": "code",
   "execution_count": null,
   "metadata": {},
   "outputs": [],
   "source": [
    "a = input(\"do u smoke?:\").title() == \"Yes\"\n",
    "b = input(\"are y chronic patient?:\").title() == \"Yes\"\n",
    "c = input(\"Are You good ?\").title() == \"Yes\"\n",
    "a,b,c\n",
    "if a and b and c:\n",
    "    print(\"u are OK..\")\n",
    "else:\n",
    "    print(\"be carefool\")"
   ]
  },
  {
   "cell_type": "code",
   "execution_count": null,
   "metadata": {},
   "outputs": [],
   "source": [
    "a =0\n",
    "cev = \"it is positive number\" if a>0 else \"it non-positive number\"\n",
    "cev"
   ]
  },
  {
   "cell_type": "code",
   "execution_count": null,
   "metadata": {},
   "outputs": [],
   "source": [
    "liste =\"\".join([str(a**2) for a in range(6)])\n",
    "list(liste)"
   ]
  },
  {
   "cell_type": "code",
   "execution_count": null,
   "metadata": {},
   "outputs": [],
   "source": [
    "num1 = 10000000.489\n",
    "num2 = 23000000\n",
    "top = num1 + num2\n",
    "print(f\"toplam={top:,.2f}\")\n",
    ""
   ]
  },
  {
   "cell_type": "code",
   "execution_count": null,
   "metadata": {},
   "outputs": [],
   "source": [
    "a,b,*_,c,_ = 1,2,3,4,5,6,7\n",
    "a, b, c"
   ]
  },
  {
   "cell_type": "code",
   "execution_count": null,
   "metadata": {},
   "outputs": [],
   "source": [
    "a='asasdaas'\n",
    "print(*a)"
   ]
  },
  {
   "cell_type": "code",
   "execution_count": null,
   "metadata": {},
   "outputs": [],
   "source": [
    "liste = {\"a\", \"b\", \"c\", \"d\"}\n",
    "for i,bird in enumerate(liste,start=1):\n",
    "    print(i,bird)"
   ]
  },
  {
   "cell_type": "markdown",
   "metadata": {},
   "source": [
    "q=[]\n",
    "cap = [\"ANKARA\",\"ATİNA\",\"LONDRA\", \"PARİS\"]\n",
    "countries = [\"TÜRKİYE\", \"YUNANİSTAN\", \"İNGLTERE\", \"FRANSA\"]\n",
    "#d = {\"a\":\"b\" for i, a in enumerate(cap) return a:b[i] }\n",
    "for x in zip(cap, countries):\n",
    "    print(x, type(x))\n",
    "    q+=x\n",
    "print(q)\n",
    "\n"
   ]
  },
  {
   "cell_type": "code",
   "execution_count": 86,
   "metadata": {},
   "outputs": [
    {
     "output_type": "stream",
     "name": "stdout",
     "text": "Capital of TÜRKİYE is ANKARA.\nCapital of YUNANİSTAN is ATİNA.\nCapital of İNGLTERE is LONDRA.\nCapital of FRANSA is PARİS.\n[('TÜRKİYE', 'ANKARA'), ('YUNANİSTAN', 'ATİNA'), ('İNGLTERE', 'LONDRA'), ('FRANSA', 'PARİS')] \n {'TÜRKİYE': 'ANKARA', 'YUNANİSTAN': 'ATİNA', 'İNGLTERE': 'LONDRA', 'FRANSA': 'PARİS'}\n"
    }
   ],
   "source": [
    "q=dict()\n",
    "l = []\n",
    "cap = [\"ANKARA\",\"ATİNA\",\"LONDRA\", \"PARİS\"]\n",
    "countries = [\"TÜRKİYE\", \"YUNANİSTAN\", \"İNGLTERE\", \"FRANSA\"]\n",
    "#d = {\"a\":\"b\" for i, a in enumerate(cap) return a:b[i] }\n",
    "for x, y in zip(cap, countries):\n",
    "    print(f\"Capital of {y} is {x}.\")\n",
    "    q[y]=x\n",
    "    l.append((y, x))\n",
    "print(l,\"\\n\",q)\n",
    "\n",
    "\n",
    "\n",
    ""
   ]
  },
  {
   "cell_type": "code",
   "execution_count": null,
   "metadata": {},
   "outputs": [],
   "source": []
  }
 ]
}