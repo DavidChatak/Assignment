{
 "cells": [
  {
   "cell_type": "markdown",
   "metadata": {},
   "source": [
    "def all_perms(elements):\n",
    "    if len(elements) <=1:\n",
    "        yield elements\n",
    "    else:\n",
    "        for perm in all_perms(elements[1:]):\n",
    "            for i in range(len(elements)):\n",
    "                # nb elements[0:1] works in both string and list contexts\n",
    "                yield perm[:i] + elements[0:1] + perm[i:]\n",
    "print(list(all_perms([1,2,3])))"
   ]
  },
  {
   "cell_type": "markdown",
   "metadata": {},
   "source": [
    "def permutations(head, tail=''):\n",
    "\n",
    "    if len(head) == 0: print(tail)\n",
    "    else:\n",
    "        for i in range(len(head)):\n",
    "            yield permutations(head[0:i] + head[i+1:], tail+head[i])\n",
    "\n",
    "res = permutations([\"1\",\"2\",\"3\", \"4\"])\n",
    "print(res)"
   ]
  },
  {
   "cell_type": "markdown",
   "metadata": {},
   "source": [
    "\n",
    "def comb(elements, n, sonuc=str()):\n",
    "    if len(sonuc)==n: print(sonuc)\n",
    "    else:\n",
    "        for j in range(len(elements)):\n",
    "            comb(elements.remove(elements[j]), n, sonuc+elements[j] )\n",
    "\n",
    "elements = [\"a\", \"b\", \"c\", \"d\"]\n",
    "comb(elements,3)"
   ]
  },
  {
   "cell_type": "markdown",
   "metadata": {},
   "source": [
    "data = [1,3,4,5,6]\n",
    "data2 = []\n",
    "d = sorted(data + data2)\n",
    "print(d, len(d)), print(len(d)%2)\n",
    "if len(d)%2 == 0:\n",
    "    print((d[(len(d)//2)-1] + d[(len(d)//2)] )/ 2)\n",
    "else:\n",
    "    print(d[len(d)//2])"
   ]
  },
  {
   "cell_type": "code",
   "execution_count": null,
   "metadata": {},
   "outputs": [],
   "source": [
    "data = \"elma armut muz\".split()\n",
    "data2 = \"ali veli selami\".split()\n",
    "d = [[i+\",\"+j]  for i in data for j in data2]\n",
    "d"
   ]
  },
  {
   "cell_type": "code",
   "execution_count": null,
   "metadata": {},
   "outputs": [],
   "source": [
    "aa =set(\"1234\")\n",
    "a=set(\"1234\")\n",
    "solution = [[]]\n",
    "for k in range(2):\n",
    "    solution = [ sorted(i + [j]) for i in solution for j in a.difference(set(i)) if sorted(i + [j]) not in solution]\n",
    "    #a.remove(k)\n",
    "(solution), len(solution)"
   ]
  },
  {
   "cell_type": "code",
   "execution_count": null,
   "metadata": {},
   "outputs": [],
   "source": [
    "[1, 2] not in [[1,22],[2,3]]"
   ]
  }
 ],
 "metadata": {
  "language_info": {
   "codemirror_mode": {
    "name": "ipython",
    "version": 3
   },
   "file_extension": ".py",
   "mimetype": "text/x-python",
   "name": "python",
   "nbconvert_exporter": "python",
   "pygments_lexer": "ipython3",
   "version": "3.8.2-final"
  },
  "orig_nbformat": 2,
  "kernelspec": {
   "name": "python38232bit4ee6b5045b2545d8a688e170679f4513",
   "display_name": "Python 3.8.2 32-bit"
  }
 },
 "nbformat": 4,
 "nbformat_minor": 2
}