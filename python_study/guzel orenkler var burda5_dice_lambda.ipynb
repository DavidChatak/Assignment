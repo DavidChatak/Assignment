{
 "cells": [
  {
   "cell_type": "markdown",
   "metadata": {},
   "source": [
    "liste = [\"a\",\"b\", \"c\", \"d\"]\n",
    "dice = [(6,6), (3,2), (2, 3),(4,4), (4,5),(4,6), (5, 5)]\n",
    "res= list(zip(liste, dice))\n",
    "dice = dice[len(liste):]\n",
    "res.sort(key = lambda x: (sum(x[1]), x[1][0]))\n",
    "if res[0]!= res[1]:\n",
    "    liste.remove(res[0][0])\n",
    "\n",
    "res, liste, dice"
   ]
  },
  {
   "cell_type": "markdown",
   "metadata": {},
   "source": [
    "y= lambda x: [(sum(x[i][1]), x[i][1][0]) for i in range(len(x))]\n",
    "res = y([('c', (5,5)), ('b', (6, 4)), ('d', (4, 4)), ('a', (6, 6))])\n",
    "res.sort()\n",
    "res\n"
   ]
  },
  {
   "cell_type": "markdown",
   "metadata": {},
   "source": [
    "def lcm(a,b):\n",
    "    for i in range(2, a*b+1):\n",
    "        if i%a == 0  and i%b == 0:\n",
    "            return i\n",
    "            \n",
    "res = lcm(9, 12)\n",
    "res"
   ]
  }
 ],
 "metadata": {
  "language_info": {
   "codemirror_mode": {
    "name": "ipython",
    "version": 3
   },
   "file_extension": ".py",
   "mimetype": "text/x-python",
   "name": "python",
   "nbconvert_exporter": "python",
   "pygments_lexer": "ipython3",
   "version": "3.8.2-final"
  },
  "orig_nbformat": 2,
  "kernelspec": {
   "name": "python38232bit4ee6b5045b2545d8a688e170679f4513",
   "display_name": "Python 3.8.2 32-bit"
  }
 },
 "nbformat": 4,
 "nbformat_minor": 2
}