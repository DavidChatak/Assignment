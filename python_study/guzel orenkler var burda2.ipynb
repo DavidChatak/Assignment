{
 "nbformat": 4,
 "nbformat_minor": 2,
 "metadata": {
  "language_info": {
   "name": "python",
   "codemirror_mode": {
    "name": "ipython",
    "version": 3
   },
   "version": "3.8.2-final"
  },
  "orig_nbformat": 2,
  "file_extension": ".py",
  "mimetype": "text/x-python",
  "name": "python",
  "npconvert_exporter": "python",
  "pygments_lexer": "ipython3",
  "version": 3,
  "kernelspec": {
   "name": "python38232bit4ee6b5045b2545d8a688e170679f4513",
   "display_name": "Python 3.8.2 32-bit"
  }
 },
 "cells": [
  {
   "cell_type": "markdown",
   "metadata": {},
   "source": [
    "def track_robot(liste):\n",
    "    x=0\n",
    "    y=0\n",
    "    hl =[] #hareket listesi\n",
    "    #liste = [\"right 10\", \"up 50\", \"left 30\", \"down 10\"]\n",
    "    for i in liste:\n",
    "        comm = i.split()\n",
    "        hl.append(comm)\n",
    "    for c in hl:\n",
    "        #print (c[0],c[1])\n",
    "        x=x+int(c[1])*(c[0]==\"right\") - int(c[1])*(c[0]==\"left\")\n",
    "        y=y+int(c[1])*(c[0]==\"up\") - int(c[1])*(c[0]==\"down\")\n",
    "    return [x,y]\n",
    "\n",
    "track_robot([\"left 10\", \"left 100\", \"left 1000\", \"left 10000\"])\n",
    "#track_robot([\"right 10\", \"up 50\", \"left 30\", \"down 10\"]"
   ],
   "execution_count": null,
   "outputs": []
  },
  {
   "cell_type": "markdown",
   "metadata": {},
   "source": [
    "liste = [\"right 10\", \"up 50\", \"left 30\", \"down 10\"]\n",
    "hl=[]\n",
    "for i in liste:\n",
    "    t = i.split()\n",
    "    hl.append(t)\n",
    "    print(t)\n",
    "print(hl)"
   ],
   "execution_count": null,
   "outputs": []
  },
  {
   "cell_type": "markdown",
   "metadata": {},
   "source": [
    "liste = [1,1,1]\n",
    "c = max(set([liste.count(i) for i in liste]))\n",
    "res = c if c>1 else 0\n",
    "res"
   ],
   "execution_count": null,
   "outputs": []
  },
  {
   "cell_type": "markdown",
   "metadata": {},
   "source": [
    "def equal(a, b, c):\n",
    "\tliste = [a,b,c]\n",
    "\tc = max(set([liste.count(i) for i in liste]))\n",
    "\tres = c if c>1 else 0\n",
    "\treturn res\n",
    "equal(1,2,3)"
   ],
   "execution_count": null,
   "outputs": []
  },
  {
   "cell_type": "markdown",
   "metadata": {},
   "source": [
    "def rps(p1,p2):\n",
    "    ref = ((\"Rock\",\"Scissors\"), (\"Scissors\", \"Paper\"), (\"Paper\",\"Rock\"))\n",
    "    if  p1 == p2:\n",
    "        res = \"It's a draw\"\n",
    "    elif (p1,p2) in ref:\n",
    "        res = \" The winner is p1\"\n",
    "    else:\n",
    "        res = \"The winner is p2\"\n",
    "    return res\n",
    "res = rps(\"Paper\",\"Rock\")\n",
    "print(res)"
   ],
   "execution_count": null,
   "outputs": []
  },
  {
   "cell_type": "markdown",
   "metadata": {},
   "source": [
    "def f(n):\n",
    "    return 1 if n==0 else n * f(n-1)\n",
    "f(5)"
   ],
   "execution_count": null,
   "outputs": []
  },
  {
   "cell_type": "markdown",
   "metadata": {},
   "source": [
    "def gauss(a,b,inc=1):\n",
    "    b = b - (b-a) % inc \n",
    "    if a == b:\n",
    "        return a\n",
    "    elif a > b :\n",
    "        return f\"wrong data, {a} is gretater than {b}\"\n",
    "    else:\n",
    "        return ((b + gauss(a, b-inc, inc)))\n",
    "\n",
    "res = gauss(19,180)\n",
    "print(res)\n"
   ],
   "execution_count": null,
   "outputs": []
  },
  {
   "cell_type": "markdown",
   "metadata": {},
   "source": [
    "def alphabet_soup(txt):\n",
    "\treturn \"\".join(sorted(list(txt)))\n",
    "alphabet_soup(\"hello\")"
   ],
   "execution_count": null,
   "outputs": []
  },
  {
   "cell_type": "markdown",
   "metadata": {},
   "source": [
    "def grade_percentage(user_score, pass_score):\n",
    "    us = int(user_score.strip(\"%\"))\n",
    "    ps = int(pass_score.strip(\"%\"))\n",
    "    return \"You PASSED the Exam\" if us >= ps else \"You FAILED the Exam\"\n",
    "grade_percentage(\"80%\", \"75%\")\n"
   ],
   "execution_count": null,
   "outputs": []
  },
  {
   "cell_type": "markdown",
   "metadata": {},
   "source": [
    "friends = [\"Zehra\", \"Ahmet\", \"Selda\",\"Zeynep\",\"kemal\"]\n",
    "a = \"\".join(sorted([i[0] for i in friends])).upper()\n",
    "a"
   ],
   "execution_count": null,
   "outputs": []
  },
  {
   "cell_type": "markdown",
   "metadata": {},
   "source": [
    "a = 76\n",
    "b = a ** 2\n",
    "b, str(b)[-len(str(a)):]"
   ],
   "execution_count": null,
   "outputs": []
  },
  {
   "cell_type": "markdown",
   "metadata": {},
   "source": [
    "lst = [ { \"name\": \"John\", \"age\": 21, \"budget\": 23000 },\n",
    "  { \"name\": \"Steve\",  \"age\": 32, \"budget\": 40000 },\n",
    "  { \"name\": \"Martin\",  \"age\": 16, \"budget\": 2700 }]\n",
    "summ = sum([(i[\"budget\"]) for i in lst ])\n",
    "summ"
   ],
   "execution_count": null,
   "outputs": []
  },
  {
   "cell_type": "markdown",
   "metadata": {},
   "source": [
    "lst = [\"victory\", \"careless\"]\n",
    "soz = []\n",
    "for ii in lst:\n",
    "    smm = 0\n",
    "    for i in ii:\n",
    "        smm += ord(i)\n",
    "    soz.append([smm, ii])\n",
    "soz = sorted(soz)\n",
    "soz[0][1]"
   ],
   "execution_count": null,
   "outputs": []
  },
  {
   "cell_type": "markdown",
   "metadata": {},
   "source": [
    "def apocalyptic(n):\n",
    "    num=str(2**n)\n",
    "    res=\"\"\n",
    "    for i in range(len(num)-2):\n",
    "        #print(num[i:i+3])\n",
    "        if num[i:i+3] == \"666\":\n",
    "            res = f\"Repent! {i+1} days until the Apocalypse!\"\n",
    "            break\n",
    "        else:\n",
    "            res = \"Crisis averted. Resume sinning.\"\n",
    "    return res\n",
    "\n",
    "r = (apocalyptic(157))\n",
    "r\n"
   ],
   "execution_count": null,
   "outputs": []
  },
  {
   "cell_type": "markdown",
   "metadata": {},
   "source": [
    "lst = [\"sda*sda\", \"asdasd\", \"asdasd\"]\n",
    "res  = \"* var\" in  [\"* var\" for i in lst if \"*\" in i]\n",
    "        \n",
    "res"
   ],
   "execution_count": null,
   "outputs": []
  },
  {
   "cell_type": "markdown",
   "metadata": {},
   "source": [
    "lst = [1,2,4,8,32]\n",
    "res = 0 == sum([lst[i+1]%lst[i] for i in range(len(lst)-1)])\n",
    "res"
   ],
   "execution_count": null,
   "outputs": []
  },
  {
   "cell_type": "markdown",
   "metadata": {},
   "source": [
    "age= input(\"enter age:\")\n",
    "while not age.isdigit():\n",
    "    age= input(\"enter age:\")\n",
    "    print(age)\n",
    "print(age+4)"
   ],
   "execution_count": null,
   "outputs": []
  },
  {
   "cell_type": "code",
   "execution_count": null,
   "metadata": {},
   "outputs": [],
   "source": []
  },
  {
   "cell_type": "markdown",
   "metadata": {},
   "source": [
    "# count_datatypes(4, 21, (\"ES\", \"EN\"), ('a', 'b'), False, [1, 2, 3], [4, 5, 6]) ➞ [2, 0, 1, 2, 2, 0]\n",
    "ref = [int, str, bool, list, tuple, dict]\n",
    "args =(4, 21, (\"ES\", \"EN\"), ('a', 'b'), False, [1, 2, 3], [4, 5, 6])\n",
    "liste = [[type(i) for i in  arg].count(x) for x in ref ]\n",
    "#liste2 =[liste.count(x) for x in ref  ]\n",
    "liste\n",
    "c = [list(map(type,args)).count(x) for x in ref]\n",
    "c"
   ],
   "execution_count": null,
   "outputs": []
  },
  {
   "cell_type": "code",
   "execution_count": null,
   "metadata": {},
   "outputs": [],
   "source": [
    "number = 13\n",
    "for i in range(2, number):\n",
    "    if number%i == 0:\n",
    "        res = (f\"{number} is not a prime number.\", number,\"/\",i,\"=\",number/i)\n",
    "        break\n",
    "res2 = (f\"{number} is a prime number.\")\n",
    "r = (res or res2)\n",
    "print(r)\n",
    ""
   ]
  },
  {
   "cell_type": "code",
   "execution_count": null,
   "metadata": {},
   "outputs": [],
   "source": []
  }
 ]
}