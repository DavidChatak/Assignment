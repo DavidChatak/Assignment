{
 "cells": [
  {
   "cell_type": "code",
   "execution_count": null,
   "metadata": {},
   "outputs": [],
   "source": [
    "import datetime\n",
    "def has_friday_13(month, year):\n",
    "    t = datetime.date(year, month, 13)\n",
    "    return t.day()\n",
    "\n",
    "has_friday_13(3, 2020)"
   ]
  },
  {
   "cell_type": "markdown",
   "metadata": {},
   "source": [
    "import csv\n",
    "\n",
    "with open('C:\\Clarusway\\password.txt') as csv_file:\n",
    "    csv_reader = csv.reader(csv_file, delimiter=',')\n",
    "    line_count = 0\n",
    "    for row in csv_reader:\n",
    "        if line_count == 0:\n",
    "            print(f'{row[0]}\\t|{row[1]}')\n",
    "            print(\"-\"*30)\n",
    "            line_count += 1\n",
    "        else:\n",
    "            print(f'Name: {row[0]} \\t|password: {row[1]}')\n",
    "            line_count += 1\n",
    "    print(f'Processed {line_count} lines.')"
   ]
  },
  {
   "cell_type": "markdown",
   "metadata": {},
   "source": [
    "import datetime\n",
    "x = datetime.datetime(2013,3,3).strftime(\"%A\")==\"Friday\"\n",
    "x"
   ]
  },
  {
   "cell_type": "markdown",
   "metadata": {},
   "source": [
    "def chatroom_status(users):\n",
    "    un = len(users)\n",
    "    if un==0:\n",
    "        return \"no one online\"\n",
    "    elif un==1:\n",
    "        return f\"{users[0]} online\"\n",
    "    elif un == 2:\n",
    "         return f\"{users[0]} and {users[1]} online\"\n",
    "    else:\n",
    "        return f\"{users[0]}, {users[1]} and {un-2} more online\"\n",
    "\n",
    "chatroom_status([\"ALİ\", \"VELİ\", \"SELAMİ\"])"
   ]
  },
  {
   "cell_type": "code",
   "execution_count": null,
   "metadata": {},
   "outputs": [],
   "source": [
    "lst = [\"Google\", \"Apple\", \"Microsoft\"]\n",
    "res = [(len(i),i) for i in lst]\n",
    "res.sort()\n",
    "r = [i[0] for i in res]\n",
    "r"
   ]
  },
  {
   "cell_type": "markdown",
   "metadata": {},
   "source": [
    "num = 11\n",
    "f\"{num/3:.4f} is the result\""
   ]
  },
  {
   "cell_type": "markdown",
   "metadata": {},
   "source": [
    "def f(n):\n",
    "    return 1 if n==0 else n*f(n-1)\n",
    "l=[1,3,5,6]\n",
    "l = {i:f\"{i:b}\" for i in (35,120,35,258) if i >100}\n",
    "l"
   ]
  },
  {
   "cell_type": "markdown",
   "metadata": {},
   "source": [
    "import random\n",
    "\n",
    "def get_weather_data():\n",
    "    return random.randrange(90, 110)\n",
    "hot_temps = [temp for i in range(10) if (temp := random.randrange(90, 110)) >= 89]\n",
    "hot_temps\n",
    "\n"
   ]
  },
  {
   "cell_type": "markdown",
   "metadata": {},
   "source": [
    "cities = ['Austin', 'Tacoma', 'Topeka', 'Sacramento', 'Charlotte']\n",
    "res = {city:[cities[i] for i in range(5)] for city in cities}\n",
    "res"
   ]
  },
  {
   "cell_type": "markdown",
   "metadata": {},
   "source": [
    "matris = [[i for i in range(5)] for j in range(5)]\n",
    "matris"
   ]
  },
  {
   "cell_type": "code",
   "execution_count": 171,
   "metadata": {},
   "outputs": [
    {
     "output_type": "execute_result",
     "data": {
      "text/plain": "['sdsdf', 'sdfs', 'cvfrvrvr', '223131']"
     },
     "metadata": {},
     "execution_count": 171
    }
   ],
   "source": [
    "lst = [\"sdsdf sdfs\", \"cvfrvrvr 223131\"]\n",
    "res = [j for i in lst for j in i.split(\" \") ]\n",
    "res"
   ]
  }
 ],
 "metadata": {
  "language_info": {
   "codemirror_mode": {
    "name": "ipython",
    "version": 3
   },
   "file_extension": ".py",
   "mimetype": "text/x-python",
   "name": "python",
   "nbconvert_exporter": "python",
   "pygments_lexer": "ipython3",
   "version": "3.8.2-final"
  },
  "orig_nbformat": 2,
  "kernelspec": {
   "name": "python38232bit4ee6b5045b2545d8a688e170679f4513",
   "display_name": "Python 3.8.2 32-bit"
  }
 },
 "nbformat": 4,
 "nbformat_minor": 2
}