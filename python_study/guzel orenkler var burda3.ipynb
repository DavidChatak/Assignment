{
 "cells": [
  {
   "cell_type": "markdown",
   "metadata": {},
   "source": [
    "list1 = [\"a\", \"b\", \"c\", \"d\", \"e\"]\n",
    "list2 = list(\"12345\")\n",
    "z = zip(list1, list2)\n",
    "print(z, type(z))\n",
    "for i, j in zip(list1, list2):\n",
    "    print({i:j})"
   ]
  },
  {
   "cell_type": "markdown",
   "metadata": {},
   "source": [
    "odd = []\n",
    "even = []\n",
    "for i in range(1,11):\n",
    "    if i%2 == 0:\n",
    "        even.append(i)\n",
    "    else:\n",
    "        odd.append(i)\n",
    "odd, even, # *range(0,11,2), \"\\n\", *range(1,10,2)"
   ]
  },
  {
   "cell_type": "markdown",
   "metadata": {},
   "source": [
    "lst = (1,2,3,4,22,333,55,34,222,0)\n",
    "m =[i%2 for i in lst]\n",
    "odd, even = m.count(1), m.count(0)\n",
    "#odd = m.count(1) even = m.count(0)\n",
    "odd, even, -1%2"
   ]
  },
  {
   "cell_type": "markdown",
   "metadata": {},
   "source": [
    "inst = [\"right 10\", \"up 50\", \"left 30\", \"down 10\"]\n",
    "x, y = 0, 0\n",
    "for i in inst:\n",
    "    j = list(i.split(\" \"))\n",
    "    x += int(j[1]) * (\"right\" == j[0]) - int(j[1]) * (\"left\" == j[0])\n",
    "    y += int(j[1]) * (\"up\" == j[0]) - int(j[1]) * (\"down\" == j[0])\n",
    "[x, y]\n",
    "\n"
   ]
  },
  {
   "cell_type": "markdown",
   "metadata": {},
   "source": [
    "a = range(ord(\"A\"), ord(\"Z\"))\n",
    "aa  = [chr(i) for i in a ]\n",
    "ord(\"A\"), ord(\"Z\")\n"
   ]
  },
  {
   "cell_type": "markdown",
   "metadata": {},
   "source": [
    "def index_of_caps(word):\n",
    "\treturn [i for i, j in enumerate(word) if j.isupper()]\n",
    "index_of_caps(\"aSDaaQW\")  "
   ]
  },
  {
   "cell_type": "markdown",
   "metadata": {},
   "source": [
    "x = [\"left 10\", \"up 23\", \"down -40\"]\n",
    "x = [i.split() for i in x]\n",
    "x"
   ]
  },
  {
   "cell_type": "markdown",
   "metadata": {},
   "source": [
    "initial = \"N\"\n",
    "\n",
    "turns = [\"R\", \"R\", \"R\", \"R\"]\n",
    "\n",
    "\n",
    "\n",
    "def final_direction(initial, turns):\n",
    "    fdir ={0:\"N\", 1:\"E\", 2:\"S\", 3:\"W\"}\n",
    "    indir = {\"N\":0, \"E\":1, \"S\":2, \"W\":3}\n",
    "    rt = turns.count(\"R\")-turns.count(\"L\")\n",
    "    return fdir[(indir[initial]+rt)%4]\n",
    "final_direction(\"N\", [\"R\", \"L\"])\n"
   ]
  },
  {
   "cell_type": "markdown",
   "metadata": {},
   "source": [
    "def final_direction(initial, turns):\n",
    "    ref = \"NESW\"\n",
    "    return ref[(ref.index(initial) + turns.count(\"R\") - turns.count(\"L\"))%4]\n",
    "final_direction(\"N\", [\"R\", \"L\"])"
   ]
  },
  {
   "cell_type": "markdown",
   "metadata": {},
   "source": [
    "liste =[[\"D\", \"E\", \"Y\", \"H\", \"A\", \"D\"],\n",
    "  [\"C\", \"B\", \"Z\", \"Y\", \"J\", \"K\"],\n",
    "  [\"D\", \"B\", \"C\", \"A\", \"M\", \"N\"],\n",
    "  [\"F\", \"G\", \"G\", \"R\", \"S\", \"R\"],\n",
    "  [\"V\", \"X\", \"H\", \"A\", \"S\", \"S\"]]\n",
    "H = \"D\"\n",
    "sum([i.count(H) for i in liste])"
   ]
  },
  {
   "cell_type": "markdown",
   "metadata": {},
   "source": [
    "txt = \"R!=:~0o0./c&}9k`60=y\"\n",
    "txt = \"\".join([i if i.isalpha() else \"\" for i in txt])\n",
    "txt\n",
    "#for i in txt: print (i, i.isalpha())"
   ]
  },
  {
   "cell_type": "code",
   "execution_count": 258,
   "metadata": {},
   "outputs": [
    {
     "output_type": "execute_result",
     "data": {
      "text/plain": "'S'"
     },
     "metadata": {},
     "execution_count": 258
    }
   ],
   "source": [
    "def final_direction(initial, turns):\n",
    "\tlist1 = [\"N\",\"W\",\"S\",\"E\",\"N\",\"W\",\"S\",\"E\"]\n",
    "\tindex=list1.index(initial)\n",
    "\tno1= turns.count(\"L\")\n",
    "\tno2=turns.count(\"R\")\n",
    "\tno3=no1-no2\n",
    "\tif no3>0:\n",
    "\t\treturn list1[(index+no3)%4]\n",
    "\telse:\n",
    "\t\treturn list1[(index-no3)%4]\n",
    "final_direction(\"N\", [\"R\", \"R\", \"R\", \"R\", \"R\", \"R\", \"R\", \"R\", \"R\", \"R\"])"
   ]
  }
 ],
 "metadata": {
  "language_info": {
   "codemirror_mode": {
    "name": "ipython",
    "version": 3
   },
   "file_extension": ".py",
   "mimetype": "text/x-python",
   "name": "python",
   "nbconvert_exporter": "python",
   "pygments_lexer": "ipython3",
   "version": "3.8.2-final"
  },
  "orig_nbformat": 2,
  "kernelspec": {
   "name": "python38232bit4ee6b5045b2545d8a688e170679f4513",
   "display_name": "Python 3.8.2 32-bit"
  }
 },
 "nbformat": 4,
 "nbformat_minor": 2
}